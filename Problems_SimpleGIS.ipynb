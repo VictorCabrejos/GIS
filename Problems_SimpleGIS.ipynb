{
 "cells": [
  {
   "cell_type": "markdown",
   "metadata": {},
   "source": [
    "You should consider the following before turning this problem in: Make sure everything runs as expected. First, **restart the kernel** (in the menubar, select Kernel$\\rightarrow$Restart) and then **run all cells** (in the menubar, select Cell$\\rightarrow$Run All)."
   ]
  },
  {
   "cell_type": "markdown",
   "metadata": {},
   "source": [
    "---"
   ]
  },
  {
   "cell_type": "markdown",
   "metadata": {
    "deletable": false,
    "editable": false,
    "nbgrader": {
     "cell_type": "markdown",
     "checksum": "bdeeb53e923061ed286676b01b82e373",
     "grade": false,
     "grade_id": "jupyter",
     "locked": true,
     "schema_version": 3,
     "solution": false
    }
   },
   "source": [
    "### Notebook Assignment Module 6\n",
    "\n",
    "# Simple GIS\n",
    "\n",
    "This Assignment is part of Module 6 of the course GIS222 (Fall2019).\n",
    "\n",
    "For this problem set, we'll be using Jupyter notebook: [<img src=\"./img/jupyter.png\" alt=\"Jupyter Project Logo\" title=\"Jupyter Project\" width=\"100\" />](https://jupyter-notebook.readthedocs.io/en/stable/)\n",
    "\n",
    "Enter your solution where it says **YOUR CODE HERE** or **YOUR ANSWER HERE** and, if remaining, **delete** the statement **\"raise NotImplementedError()\"** when filling in your solution. For some tasks, additional interactive testing cells allow you to test your code.\n",
    "\n",
    "Fill also your name and collaborators below."
   ]
  },
  {
   "cell_type": "code",
   "execution_count": null,
   "metadata": {},
   "outputs": [],
   "source": [
    "NAME = \"\"\n",
    "COLLABORATORS = \"\""
   ]
  },
  {
   "cell_type": "markdown",
   "metadata": {
    "deletable": false,
    "editable": false,
    "nbgrader": {
     "cell_type": "markdown",
     "checksum": "d2895397ebb2179c001e822a45ad442e",
     "grade": false,
     "grade_id": "cell-Abegin",
     "locked": true,
     "schema_version": 3,
     "solution": false,
     "task": false
    }
   },
   "source": [
    "---\n",
    "## Part A: Translate number of days into date objects and use them for a plot (9 points)\n",
    "\n",
    "\n",
    "For this part, we have defined a numpy array `noDays` and `temperatures` in the code cell below. This is a fictitious datasets of temperature records given for days of the year 1999."
   ]
  },
  {
   "cell_type": "code",
   "execution_count": 1,
   "metadata": {
    "deletable": false,
    "editable": false,
    "nbgrader": {
     "cell_type": "code",
     "checksum": "2adb3da37362acd99330df18ce859051",
     "grade": false,
     "grade_id": "cell-Adata",
     "locked": true,
     "schema_version": 3,
     "solution": false,
     "task": false
    }
   },
   "outputs": [],
   "source": [
    "# given number of days since January 1, 1999\n",
    "import numpy as np\n",
    "noDays = np.array([15., 18., 38., 49., 55., 60., 100., 150., 244., 300., 364.])\n",
    "temperatures = np.array([10., 12., 12., 18., 19., 20., 22., 14., 12, 9., 6.])"
   ]
  },
  {
   "cell_type": "markdown",
   "metadata": {
    "deletable": false,
    "editable": false,
    "nbgrader": {
     "cell_type": "markdown",
     "checksum": "272d471975ef5c952891197ae55aeba3",
     "grade": false,
     "grade_id": "cell-A1task",
     "locked": true,
     "points": 0,
     "schema_version": 3,
     "solution": false,
     "task": true
    }
   },
   "source": [
    "### Task A.1\n",
    "\n",
    "The array `noDays` contains time stamps for the temperture records, provided in the format of numbers of days since January 1, 1999. Convert the time entries in the array to actual dates using appropriate functions of the module `Datetime`. For that you need to:\n",
    "\n",
    "* Import the correct functions from the module Datetime (2 points)\n",
    "* Use an iteration or list comprehension that translates each item in the array `noDays` into a date object (2 points)\n",
    "* Assign the resulting dates to a list of the name `noDays_date` (1 point)\n",
    "\n",
    "Fill your code in the answer code cell below. Make sure to comment your code well!!! Use exaclty the variable names as stated in the task.\n",
    "\n"
   ]
  },
  {
   "cell_type": "code",
   "execution_count": 2,
   "metadata": {},
   "outputs": [],
   "source": [
    "# noDays_date = noDays.astype('timedelta64[D]') + np.datetime64('1999-01-01')\n",
    "# noDays_date"
   ]
  },
  {
   "cell_type": "code",
   "execution_count": 3,
   "metadata": {},
   "outputs": [],
   "source": [
    "# Import the correct functions from the module Datetime (2 points)\n",
    "from datetime import timedelta\n",
    "from datetime import datetime "
   ]
  },
  {
   "cell_type": "code",
   "execution_count": 4,
   "metadata": {
    "deletable": false,
    "nbgrader": {
     "cell_type": "code",
     "checksum": "b117a9e2c9605f958924c417be863112",
     "grade": false,
     "grade_id": "cell-A1answer",
     "locked": false,
     "schema_version": 3,
     "solution": true,
     "task": false
    }
   },
   "outputs": [
    {
     "data": {
      "text/plain": [
       "array(['1999-01-16', '1999-01-19', '1999-02-08', '1999-02-19',\n",
       "       '1999-02-25', '1999-03-02', '1999-04-11', '1999-05-31',\n",
       "       '1999-09-02', '1999-10-28', '1999-12-31'], dtype='datetime64[D]')"
      ]
     },
     "execution_count": 4,
     "metadata": {},
     "output_type": "execute_result"
    }
   ],
   "source": [
    "# YOUR CODE HERE\n",
    "\n",
    "# Use an iteration or list comprehension that translates each item in the array noDays into a date object (2 points)\n",
    "date = datetime.strptime('19990101', \"%Y%d%m\").date()\n",
    "dates = [(date + timedelta(x))  for x in noDays]\n",
    "noDays_date = np.array(dates, dtype='datetime64')\n",
    "noDays_date"
   ]
  },
  {
   "cell_type": "code",
   "execution_count": 5,
   "metadata": {
    "deletable": false,
    "editable": false,
    "nbgrader": {
     "cell_type": "code",
     "checksum": "c9c3a42e6e9ee21a8d36aebb90f98e3f",
     "grade": true,
     "grade_id": "cell-A1test",
     "locked": true,
     "points": 6,
     "schema_version": 3,
     "solution": false,
     "task": false
    }
   },
   "outputs": [
    {
     "name": "stdout",
     "output_type": "stream",
     "text": [
      "1999-01-16\n",
      "1999-01-19\n",
      "1999-02-08\n",
      "1999-02-19\n",
      "1999-02-25\n",
      "1999-03-02\n",
      "1999-04-11\n",
      "1999-05-31\n",
      "1999-09-02\n",
      "1999-10-28\n",
      "1999-12-31\n"
     ]
    },
    {
     "data": {
      "text/plain": [
       "[None, None, None, None, None, None, None, None, None, None, None]"
      ]
     },
     "execution_count": 5,
     "metadata": {},
     "output_type": "execute_result"
    }
   ],
   "source": [
    "# Print your result to test your code\n",
    "[print(e) for e in noDays_date]\n"
   ]
  },
  {
   "cell_type": "markdown",
   "metadata": {
    "deletable": false,
    "editable": false,
    "nbgrader": {
     "cell_type": "markdown",
     "checksum": "6d481a051cb8be73ca558a07246e9d44",
     "grade": false,
     "grade_id": "cell-A2task",
     "locked": true,
     "points": 0,
     "schema_version": 3,
     "solution": false,
     "task": true
    }
   },
   "source": [
    "### Task A.2\n",
    "\n",
    "For the fictitious data set from above, another array `temperature` was defined. You should now plot this dataset using the time stamps you have just translated to date objects and saved in the variable `noDays_date`. For that do the following:\n",
    "\n",
    "* Import the pyplot package (1 point)\n",
    "* Use the correct IPython magic command to make sure your plot is shown inline (1point)\n",
    "* Make a very simple plot of the temperature dataset, using the dates from Task 1, to make sure your x-axis labels provide real dates.\n",
    "\n",
    "There is no need to further label the plot.\n",
    "Fill your code in the answer code cell below. Make sure to comment your code well!!! Use exaclty the variable names as stated in the task.\n",
    "\n"
   ]
  },
  {
   "cell_type": "code",
   "execution_count": 6,
   "metadata": {
    "deletable": false,
    "nbgrader": {
     "cell_type": "code",
     "checksum": "f9471b9f0444ed75a16b241669af3e46",
     "grade": true,
     "grade_id": "cell-A2answer",
     "locked": false,
     "points": 3,
     "schema_version": 3,
     "solution": true,
     "task": false
    }
   },
   "outputs": [
    {
     "data": {
      "image/png": "[encoded data removed]",
      "text/plain": [
       "<Figure size 432x288 with 1 Axes>"
      ]
     },
     "metadata": {
      "needs_background": "light"
     },
     "output_type": "display_data"
    }
   ],
   "source": [
    "# YOUR CODE HERE\n",
    "# Import the pyplot package (1 point)\n",
    "import matplotlib.pyplot as plt\n",
    "import matplotlib.dates as mdates\n",
    "\n",
    "# Use the correct IPython magic command to make sure your plot is shown inline (1point)\n",
    "%matplotlib inline\n",
    "\n",
    "# Make a very simple plot of the temperature dataset, using the dates from Task 1, to make sure your x-axis labels provide real dates\n",
    "\n",
    "# using plt.subplots to create a very simple plot\n",
    "fig, ax = plt.subplots()\n",
    "\n",
    "# plotting noDays_date vs temperature\n",
    "ax.plot(noDays_date, temperatures)\n",
    "\n",
    "# setting my date axis label to the correct format\n",
    "ax.xaxis.set_major_formatter(mdates.DateFormatter(\"%Y-%m-%d\"))\n",
    "\n",
    "# setting the rotation of the date axis labels to 45 degrees\n",
    "plt.setp(ax.xaxis.get_majorticklabels(), rotation=45)\n",
    "\n",
    "# basic x axis label\n",
    "plt.xlabel(\"Time\")\n",
    "\n",
    "# basic y axis label\n",
    "plt.ylabel(\"Temperature\")\n",
    "\n",
    "plt.show()"
   ]
  },
  {
   "cell_type": "markdown",
   "metadata": {
    "deletable": false,
    "editable": false,
    "nbgrader": {
     "cell_type": "markdown",
     "checksum": "86b29a0cb2e6d5c44828b7d6d64a4c79",
     "grade": false,
     "grade_id": "cell-Btask",
     "locked": true,
     "points": 10,
     "schema_version": 3,
     "solution": false,
     "task": true
    }
   },
   "source": [
    "---\n",
    "## Part B: Print an image with adjusted axes labels (10 points)\n",
    "\n",
    "For this task, we are providing you with some code below, which imports the shaded relief from the file `'./data/US_MSR_lowRes_terrain.dat'` to the variable `reliefUS`, defines related metadata as well as meshgrids for the `x` and `y` coordinates of the shaded relief. You are also given the coordinate bounds for an area of the Northeast (NE) of the United States, which you should slice out of the shaded relief data set. The bounds are given by the assigned variables `latMin`, `latMax`, `lonMin` and `lonMax`, below. You should also plot the new data frame in a matplotlib image with correctly labeled coordinate axes. In addition, plot the location of the city of New York and two further cities of your choice into the map. For that you need to:\n",
    "\n",
    "* Find correct indexes for the bounding box coordinates in the coordinate arrays `x_col` and `y_col` (2 points\n",
    "* Reduce all neccessary arrays to bounding box using those indexes (2 points)\n",
    "* Plotting the relief data with labeled axes: coordinates (2 points)\n",
    "* Plotting the relief with a reversed gray scale colorbar (1 point)\n",
    "* Plot the location of the city New York, with the coordinates `NY_lat` and `NY_lon` using a colored dot (1 point)\n",
    "* Label the dot for the city of New York with its name (1 point)\n",
    "* Find coordiantes of two more cities in the map frame and add colored dots for their locations (1 point)\n",
    "\n",
    "Fill your code in the answer code cell below. Make sure to comment your code well!!! Use exaclty the variable names as stated in the task.\n"
   ]
  },
  {
   "cell_type": "code",
   "execution_count": 43,
   "metadata": {
    "deletable": false,
    "editable": false,
    "nbgrader": {
     "cell_type": "code",
     "checksum": "1996c1e509dd5a226a5e0327dc7f51f8",
     "grade": false,
     "grade_id": "cell-Bdata",
     "locked": true,
     "schema_version": 3,
     "solution": false,
     "task": false
    }
   },
   "outputs": [],
   "source": [
    "# provided code to:\n",
    "#    import the relief data, \n",
    "#    define the coordinate arrays (meshgrids)\n",
    "#    define new bounding box for reduced data fram\n",
    "\n",
    "import numpy as np\n",
    "\n",
    "# reading the file using numpy function genfromtxt, skipping header\n",
    "filename = \"./data/US_MSR_lowRes_terrain.dat\"  # USA Shaded relief data\n",
    "reliefUS = np.genfromtxt(filename, delimiter=' ', skip_header=6) \n",
    "\n",
    "# defining information from file header\n",
    "xllcorner = -129.9727818920000004\n",
    "yllcorner =  15.5224817269999988\n",
    "cellsize  =   0.04001\n",
    "[yDim,xDim] = reliefUS.shape\n",
    "\n",
    "# Creating meshgrids x and y that hold lon and lat coordinates for each data point\n",
    "x_col = np.empty(reliefUS.shape)\n",
    "y_col = np.empty(reliefUS.shape)\n",
    "x_col = np.linspace(xllcorner,xllcorner+cellsize*(xDim+1), xDim)\n",
    "y_col = np.linspace(yllcorner,yllcorner+cellsize*(yDim+1), yDim)\n",
    "y_col = np.flip(y_col)\n",
    "x, y = np.meshgrid(x_col,y_col)\n",
    "\n",
    "# defining a new bounding box for NE USA to be extracted from the shaded relief image\n",
    "latMin = 36\n",
    "latMax = 50\n",
    "lonMin = -98\n",
    "lonMax = -65\n",
    "\n",
    "# coordinates New York\n",
    "NY_lat = 40.730610\n",
    "NY_lon = -73.935242"
   ]
  },
  {
   "cell_type": "code",
   "execution_count": 44,
   "metadata": {},
   "outputs": [
    {
     "name": "stdout",
     "output_type": "stream",
     "text": [
      "x shape: \n",
      " (1664,)\n",
      "x : \n",
      " [[-129.97278189 -129.93272377 -129.89266566 ...  -63.43624813\n",
      "   -63.39619001  -63.35613189]\n",
      " [-129.97278189 -129.93272377 -129.89266566 ...  -63.43624813\n",
      "   -63.39619001  -63.35613189]\n",
      " [-129.97278189 -129.93272377 -129.89266566 ...  -63.43624813\n",
      "   -63.39619001  -63.35613189]\n",
      " [-129.97278189 -129.93272377 -129.89266566 ...  -63.43624813\n",
      "   -63.39619001  -63.35613189]]\n",
      "y shape: \n",
      " (1664,)\n",
      "y : \n",
      " [[56.05261173 56.05261173 56.05261173 ... 56.05261173 56.05261173\n",
      "  56.05261173]\n",
      " [56.01252258 56.01252258 56.01252258 ... 56.01252258 56.01252258\n",
      "  56.01252258]\n",
      " [55.97243343 55.97243343 55.97243343 ... 55.97243343 55.97243343\n",
      "  55.97243343]\n",
      " [55.93234428 55.93234428 55.93234428 ... 55.93234428 55.93234428\n",
      "  55.93234428]]\n",
      "1664\n"
     ]
    }
   ],
   "source": [
    "print(\"x shape: \\n\", x[0].shape )\n",
    "print(\"x : \\n\", x[0:4])\n",
    "\n",
    "print(\"y shape: \\n\", y[0].shape)\n",
    "print(\"y : \\n\", y[0:4])\n",
    "\n",
    "print(xDim)"
   ]
  },
  {
   "cell_type": "code",
   "execution_count": 45,
   "metadata": {
    "deletable": false,
    "nbgrader": {
     "cell_type": "code",
     "checksum": "7d532e2a40a451ef59e1d99c982378ee",
     "grade": false,
     "grade_id": "cell-Banswer",
     "locked": false,
     "schema_version": 3,
     "solution": true,
     "task": false
    }
   },
   "outputs": [
    {
     "name": "stdout",
     "output_type": "stream",
     "text": [
      "Long Min Index :  798\n",
      "Long Max Index :  1621\n",
      "Lat  Min Index :  500\n",
      "Lat  Max Index :  150\n",
      "-98.00640384028623\n",
      "-65.0385728420902\n",
      "36.00803704846389\n",
      "50.03923932343916\n"
     ]
    }
   ],
   "source": [
    "# Find correct indexes for the bounding box coordinates in the coordinate arrays x_col and y_col (2 points)\n",
    "\n",
    "lonMinValue = max([j for i in x for j in i if (j >= -99 and j <= lonMin)])\n",
    "lonMinIndex = np.argwhere(x==lonMinValue)[0][1] # index = 798\n",
    "\n",
    "lonMaxValue = max([j for i in x for j in i if (j >= -66 and j <= lonMax)])\n",
    "lonMaxIndex = np.argwhere(x==lonMaxValue)[0][1] # index = 1621\n",
    "\n",
    "latMinValue = min([j for i in y.T for j in i if (j >= latMin and j <= 37)])\n",
    "latMinIndex = np.argwhere(y.T==latMinValue)[0][1] # index = 500\n",
    "\n",
    "latMaxValue = min([j for i in y.T for j in i if (j >= latMax and j <= 51)])\n",
    "latMaxIndex = np.argwhere(y.T==latMaxValue)[0][1] # index = 500\n",
    "\n",
    "\n",
    "print(\"Long Min Index : \", lonMinIndex)\n",
    "print(\"Long Max Index : \", lonMaxIndex)\n",
    "print(\"Lat  Min Index : \", latMinIndex)\n",
    "print(\"Lat  Max Index : \", latMaxIndex)\n",
    "\n",
    "print(x_col[lonMinIndex])\n",
    "print(x_col[lonMaxIndex])\n",
    "print(y_col[latMinIndex])\n",
    "print(y_col[latMaxIndex])\n",
    "\n",
    "# Reduce all neccessary arrays to bounding box using those indexes (2 points)\n",
    "# x_col = np.empty(reliefUS.shape)\n",
    "# y_col = np.empty(reliefUS.shape)\n",
    "x_col = np.linspace(x_col[lonMinIndex],x_col[lonMaxIndex], 50)\n",
    "y_col = np.linspace(y_col[latMinIndex],y_col[latMaxIndex], 50)\n",
    "y_col = np.flip(y_col)\n",
    "x, y = np.meshgrid(x_col,y_col)"
   ]
  },
  {
   "cell_type": "code",
   "execution_count": 50,
   "metadata": {},
   "outputs": [
    {
     "data": {
      "image/png": "[encoded data removed]",
      "text/plain": [
       "<Figure size 432x288 with 1 Axes>"
      ]
     },
     "metadata": {
      "needs_background": "light"
     },
     "output_type": "display_data"
    }
   ],
   "source": [
    "# Plotting the relief data with labeled axes: coordinates (2 points)\n",
    "import matplotlib.pyplot as plt\n",
    "plt.scatter(x,y) \n",
    "plt.set_cmap('jet')\n",
    "plt.xlabel(\"Longitude\")\n",
    "plt.ylabel(\"Latitude\")\n",
    "plt.show()"
   ]
  },
  {
   "cell_type": "code",
   "execution_count": 55,
   "metadata": {},
   "outputs": [
    {
     "data": {
      "image/png": "[encoded data removed]",
      "text/plain": [
       "<Figure size 432x288 with 1 Axes>"
      ]
     },
     "metadata": {
      "needs_background": "light"
     },
     "output_type": "display_data"
    }
   ],
   "source": [
    "# Plotting the relief with a reversed gray scale colorbar\n",
    "plt.scatter(x,y, c='gray') \n",
    "plt.set_cmap('gray')\n",
    "plt.xlabel(\"Longitude\")\n",
    "plt.ylabel(\"Latitude\")\n",
    "plt.show()"
   ]
  },
  {
   "cell_type": "code",
   "execution_count": 58,
   "metadata": {},
   "outputs": [
    {
     "data": {
      "image/png": "[encoded data removed]",
      "text/plain": [
       "<Figure size 432x288 with 1 Axes>"
      ]
     },
     "metadata": {
      "needs_background": "light"
     },
     "output_type": "display_data"
    }
   ],
   "source": [
    "# Label the dot for the city of New York with its name (1 point)\n",
    "\n",
    "plt.scatter(x,y, c='gray') \n",
    "plt.plot(NY_lon, NY_lat, 'ro')\n",
    "plt.set_cmap('gray')\n",
    "plt.xlabel(\"Longitude\")\n",
    "plt.ylabel(\"Latitude\")\n",
    "plt.show()"
   ]
  },
  {
   "cell_type": "code",
   "execution_count": 59,
   "metadata": {},
   "outputs": [
    {
     "data": {
      "image/png": "[encoded data removed]",
      "text/plain": [
       "<Figure size 432x288 with 1 Axes>"
      ]
     },
     "metadata": {
      "needs_background": "light"
     },
     "output_type": "display_data"
    }
   ],
   "source": [
    "# Plot the location of the city New York, with the coordinates NY_lat and NY_lon using a colored dot (1 point)\n",
    "# # coordinates New York\n",
    "# NY_lat = 40.730610\n",
    "# NY_lon = -73.935242\n",
    "\n",
    "plt.scatter(x,y, c='gray') \n",
    "plt.plot(NY_lon, NY_lat, 'ro')\n",
    "plt.annotate(\"New York city\", xy=(NY_lon, NY_lat))\n",
    "plt.set_cmap('gray')\n",
    "plt.xlabel(\"Longitude\")\n",
    "plt.ylabel(\"Latitude\")\n",
    "plt.show()"
   ]
  },
  {
   "cell_type": "code",
   "execution_count": null,
   "metadata": {},
   "outputs": [],
   "source": [
    "# Label the dot for the city of New York with its name (1 point)"
   ]
  },
  {
   "cell_type": "markdown",
   "metadata": {
    "deletable": false,
    "editable": false,
    "nbgrader": {
     "cell_type": "markdown",
     "checksum": "1fa0c02f548a5277c1de3a25a32e264c",
     "grade": false,
     "grade_id": "cell-Ctask",
     "locked": true,
     "points": 0,
     "schema_version": 3,
     "solution": false,
     "task": true
    }
   },
   "source": [
    "---\n",
    "## Part C: Find out which points locate inside a region (9 points)\n",
    "\n",
    "For this task, you have given x and y coordiantes of two points p1 and p2 as well as an array containing a nested list of coordinate pairs. The data are defined in a code cell below this task. You are supposed to automatically test, whether the two points lcoate inside the polygon using Python code. For that you have to convert the points and the polygonArray to shapely objects and use the correct shapely function to assing the test result to two variables `test` and `test2`. In detail, perform the following steps:\n",
    "\n",
    "* Import the objects **Point** and **Polygon** from the package shapely.geometry in the way, that you do not need any prefix to use the objects Point and Polygon (1 point)\n",
    "* Define two points `p1` and `p2` as shapely Points, given the data below (2 points)\n",
    "* Convert the polygon given by the variable `polygonArray` to a list of tuples holding coordinate pairs and save them in the variable `PolygonList`. The structure of the list should be appropriate to serve as input for the shapely object Polygon in the next step. (3 points)\n",
    "* Define a shapely polygon `poly1` using the coordinates stored in `PolygonList` (1 point)\n",
    "* Check whether point `p1` and point `p2` locate in the polygon `poly1` and assign the test results to the variables `test1` and `test2`, respectively (2 points)\n",
    "\n",
    "Fill your code in the answer code cell below. Make sure to comment your code well!!! Use exaclty the variable names as stated in the task."
   ]
  },
  {
   "cell_type": "code",
   "execution_count": null,
   "metadata": {
    "deletable": false,
    "editable": false,
    "nbgrader": {
     "cell_type": "code",
     "checksum": "c6cc9ac18cbc1360a9eef7a46c116321",
     "grade": false,
     "grade_id": "cell-Ccode",
     "locked": true,
     "schema_version": 3,
     "solution": false,
     "task": false
    }
   },
   "outputs": [],
   "source": [
    "# x and y coordinates of two points, given as numbers\n",
    "p1_y = 24.952242\n",
    "p1_x = 60.1696017\n",
    "p2_y = 24.976567\n",
    "p2_x = 60.1612500\n",
    "\n",
    "# x and y coordinates of 4 points defining a polygon, given as a numpy array [y,x]\n",
    "polygonArray = np.array([[24.950899, 60.169158], [24.953492, 60.169158], [24.953510,60.170104], [24.950958,60.169990]])"
   ]
  },
  {
   "cell_type": "code",
   "execution_count": null,
   "metadata": {
    "deletable": false,
    "nbgrader": {
     "cell_type": "code",
     "checksum": "af6475c58d0509ea0567b4af1b98ac44",
     "grade": false,
     "grade_id": "cell-Canswer",
     "locked": false,
     "schema_version": 3,
     "solution": true,
     "task": false
    }
   },
   "outputs": [],
   "source": [
    "# Enter your code and delete the line 'raise NotImplementedError()'\n",
    "\n",
    "# YOUR CODE HERE\n",
    "raise NotImplementedError()"
   ]
  },
  {
   "cell_type": "code",
   "execution_count": null,
   "metadata": {
    "deletable": false,
    "editable": false,
    "nbgrader": {
     "cell_type": "code",
     "checksum": "513e0bc9f8cf528afa70c1f6051f3ec6",
     "grade": true,
     "grade_id": "cell-Ctest",
     "locked": true,
     "points": 9,
     "schema_version": 3,
     "solution": false,
     "task": false
    }
   },
   "outputs": [],
   "source": [
    "# Print your result to test your code\n",
    "print(\"Does p1 locates inside the polygon poly1? \", polytest1)\n",
    "print(\"Does p2 locates inside the polygon poly1? \", polytest2)\n",
    "\n",
    "\n",
    "print(\"\\nThe Polygon poly1 looks like this:\")\n",
    "poly1"
   ]
  },
  {
   "cell_type": "markdown",
   "metadata": {
    "deletable": false,
    "editable": false,
    "nbgrader": {
     "cell_type": "markdown",
     "checksum": "c2aac3b320f6c9e11258426dbafa97e5",
     "grade": false,
     "grade_id": "cell-Dtask",
     "locked": true,
     "schema_version": 3,
     "solution": false,
     "task": false
    }
   },
   "source": [
    "---\n",
    "## Part D: Import a netCDF file, calculate a map statistic and plot the result (14 points)\n",
    "\n",
    "For this task, you should import the netCDF file `tos_O1_2001-2002.nc` located in the folder `./data/` of this assignment folder (assignments_M6) and calculate the maximum sea surface temperature during the year 2001 for each gridpoint. Then print the resulting map. For guidance and to receive full points, follow exactly these steps:\n",
    "\n",
    "* Import the package `Dataset` from the module netCDF4 (1 point)\n",
    "* Read the netcdf dataset from the file `./data/tos_O1_2001-2002.nc` and save the content to the variable `data` (1 point)\n",
    "* Print out the information of the data set to get an overview\n",
    "* Assign the data content to the variable `lat`, `lon`, `time`, `tos`. Consider to select the correct object from the masked arrays, if needed (extract the data object). (4 points)\n",
    "* Close the netCDF file (if you forget this, your notebook might not validate).\n",
    "* Convert the 1D lat/lon arrays to a meshgrid arrays and save them to the variables `lat_grid` and `lon_grid` (2 points)\n",
    "* Converting missing values in '`tos` data to `np.nan` (convert to Celsius or leave at Kelvin, as you prefer) (1 point)\n",
    "* Iterate over the data array `tos` in the correct way, to retrieve the maximum sea surface temperature during the year 2001 for each data pixel and save the results in a new map `tos_max2001` (4 points)\n",
    "* Make a simple plot the new map `tos_max` with labeled coordinate axes and a colorbar with the colormap `'viridis'`. No further labeling needed (1 point)"
   ]
  },
  {
   "cell_type": "code",
   "execution_count": null,
   "metadata": {
    "deletable": false,
    "nbgrader": {
     "cell_type": "code",
     "checksum": "cb5b7575258c5d69bd3f17789cc52e18",
     "grade": false,
     "grade_id": "cell-Danswer",
     "locked": false,
     "schema_version": 3,
     "solution": true,
     "task": false
    }
   },
   "outputs": [],
   "source": [
    "# Enter your code and delete the line 'raise NotImplementedError()'\n",
    "\n",
    "# YOUR CODE HERE\n",
    "raise NotImplementedError()"
   ]
  },
  {
   "cell_type": "code",
   "execution_count": null,
   "metadata": {
    "deletable": false,
    "editable": false,
    "nbgrader": {
     "cell_type": "code",
     "checksum": "e5d548baa9586cd9bee3f4ae6ff2aefb",
     "grade": true,
     "grade_id": "cell-Dtest",
     "locked": true,
     "points": 14,
     "schema_version": 3,
     "solution": false,
     "task": false
    }
   },
   "outputs": [],
   "source": [
    "# Print your result to test your code\n",
    "print(\"Shape of the map of maximum temperatures should be (170, 180)!!! It is:\", tos_max2001.shape)\n"
   ]
  },
  {
   "cell_type": "markdown",
   "metadata": {
    "deletable": false,
    "editable": false,
    "nbgrader": {
     "cell_type": "markdown",
     "checksum": "594674b485d611291910e671e4eed965",
     "grade": false,
     "grade_id": "cell-taskfinal",
     "locked": true,
     "schema_version": 3,
     "solution": false,
     "task": false
    }
   },
   "source": [
    "# Assignment Evaluation (3 points)\n",
    "\n",
    "Please let us know, what kind of problems you had working on the problems notebooks of module 6. Do you understand all the components for analysing the science data? If not, what part seems difficult? Which tools are specifically hard to understand or to code? Your notes will help us to provide you with effective support for the final project. "
   ]
  },
  {
   "cell_type": "code",
   "execution_count": null,
   "metadata": {
    "deletable": false,
    "nbgrader": {
     "cell_type": "code",
     "checksum": "4d6a87aef3782a02e8b35edd72b95ec0",
     "grade": true,
     "grade_id": "cell-finalAnswer",
     "locked": false,
     "points": 3,
     "schema_version": 3,
     "solution": true,
     "task": false
    }
   },
   "outputs": [],
   "source": [
    "# YOUR CODE HERE\n",
    "raise NotImplementedError()"
   ]
  },
  {
   "cell_type": "markdown",
   "metadata": {
    "deletable": false,
    "editable": false,
    "nbgrader": {
     "cell_type": "markdown",
     "checksum": "8bc6323355ac91cce348c2f68a6ffb3b",
     "grade": false,
     "grade_id": "cell-final",
     "locked": true,
     "schema_version": 3,
     "solution": false,
     "task": false
    }
   },
   "source": [
    "If you are satisfied with your answers, validate your notebook, save it and make a backup until you submit this assignment with the entire assignment folder `assignments_6`."
   ]
  }
 ],
 "metadata": {
  "kernelspec": {
   "display_name": "Python 3",
   "language": "python",
   "name": "python3"
  },
  "language_info": {
   "codemirror_mode": {
    "name": "ipython",
    "version": 3
   },
   "file_extension": ".py",
   "mimetype": "text/x-python",
   "name": "python",
   "nbconvert_exporter": "python",
   "pygments_lexer": "ipython3",
   "version": "3.7.3"
  }
 },
 "nbformat": 4,
 "nbformat_minor": 2
}
